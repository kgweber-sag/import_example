{
 "cells": [
  {
   "cell_type": "code",
   "id": "initial_id",
   "metadata": {
    "collapsed": true,
    "ExecuteTime": {
     "end_time": "2025-01-03T00:16:37.742070Z",
     "start_time": "2025-01-03T00:16:37.737025Z"
    }
   },
   "source": [
    "import pandas as pd\n",
    "from utils.helpers import create_example_dataframe\n",
    "from utils.rules import RULES"
   ],
   "outputs": [],
   "execution_count": 4
  },
  {
   "metadata": {
    "ExecuteTime": {
     "end_time": "2025-01-03T00:13:42.983951Z",
     "start_time": "2025-01-03T00:13:42.968831Z"
    }
   },
   "cell_type": "code",
   "source": [
    "df = create_example_dataframe(10)\n",
    "df"
   ],
   "id": "ed3f3aefd71b7445",
   "outputs": [
    {
     "data": {
      "text/plain": [
       "      name          location         dob\n",
       "0   Joanna         Perezfort  1975-10-19\n",
       "1    Cindy  New Vincentburgh  1986-10-03\n",
       "2    Shari   Port Deannaside  1986-09-05\n",
       "3   Angela    Richardchester  1986-09-10\n",
       "4  Anthony       Moralestown  2004-04-06\n",
       "5    Billy   Port Aprilmouth  1961-01-23\n",
       "6    Jared  West Kathleenton  1961-07-27\n",
       "7    Kathy      Mitchellport  1982-11-15\n",
       "8  Michael   North Saraburgh  1975-01-02\n",
       "9    Carol        Heatherton  1964-12-18"
      ],
      "text/html": [
       "<div>\n",
       "<style scoped>\n",
       "    .dataframe tbody tr th:only-of-type {\n",
       "        vertical-align: middle;\n",
       "    }\n",
       "\n",
       "    .dataframe tbody tr th {\n",
       "        vertical-align: top;\n",
       "    }\n",
       "\n",
       "    .dataframe thead th {\n",
       "        text-align: right;\n",
       "    }\n",
       "</style>\n",
       "<table border=\"1\" class=\"dataframe\">\n",
       "  <thead>\n",
       "    <tr style=\"text-align: right;\">\n",
       "      <th></th>\n",
       "      <th>name</th>\n",
       "      <th>location</th>\n",
       "      <th>dob</th>\n",
       "    </tr>\n",
       "  </thead>\n",
       "  <tbody>\n",
       "    <tr>\n",
       "      <th>0</th>\n",
       "      <td>Joanna</td>\n",
       "      <td>Perezfort</td>\n",
       "      <td>1975-10-19</td>\n",
       "    </tr>\n",
       "    <tr>\n",
       "      <th>1</th>\n",
       "      <td>Cindy</td>\n",
       "      <td>New Vincentburgh</td>\n",
       "      <td>1986-10-03</td>\n",
       "    </tr>\n",
       "    <tr>\n",
       "      <th>2</th>\n",
       "      <td>Shari</td>\n",
       "      <td>Port Deannaside</td>\n",
       "      <td>1986-09-05</td>\n",
       "    </tr>\n",
       "    <tr>\n",
       "      <th>3</th>\n",
       "      <td>Angela</td>\n",
       "      <td>Richardchester</td>\n",
       "      <td>1986-09-10</td>\n",
       "    </tr>\n",
       "    <tr>\n",
       "      <th>4</th>\n",
       "      <td>Anthony</td>\n",
       "      <td>Moralestown</td>\n",
       "      <td>2004-04-06</td>\n",
       "    </tr>\n",
       "    <tr>\n",
       "      <th>5</th>\n",
       "      <td>Billy</td>\n",
       "      <td>Port Aprilmouth</td>\n",
       "      <td>1961-01-23</td>\n",
       "    </tr>\n",
       "    <tr>\n",
       "      <th>6</th>\n",
       "      <td>Jared</td>\n",
       "      <td>West Kathleenton</td>\n",
       "      <td>1961-07-27</td>\n",
       "    </tr>\n",
       "    <tr>\n",
       "      <th>7</th>\n",
       "      <td>Kathy</td>\n",
       "      <td>Mitchellport</td>\n",
       "      <td>1982-11-15</td>\n",
       "    </tr>\n",
       "    <tr>\n",
       "      <th>8</th>\n",
       "      <td>Michael</td>\n",
       "      <td>North Saraburgh</td>\n",
       "      <td>1975-01-02</td>\n",
       "    </tr>\n",
       "    <tr>\n",
       "      <th>9</th>\n",
       "      <td>Carol</td>\n",
       "      <td>Heatherton</td>\n",
       "      <td>1964-12-18</td>\n",
       "    </tr>\n",
       "  </tbody>\n",
       "</table>\n",
       "</div>"
      ]
     },
     "execution_count": 2,
     "metadata": {},
     "output_type": "execute_result"
    }
   ],
   "execution_count": 2
  },
  {
   "metadata": {
    "ExecuteTime": {
     "end_time": "2025-01-03T00:16:39.703187Z",
     "start_time": "2025-01-03T00:16:39.699241Z"
    }
   },
   "cell_type": "code",
   "source": [
    "# print each entry in the RULES dictionary for 'mammal'\n",
    "for key, value in RULES.items():\n",
    "    print(f'{key}: {value[\"mammals\"]}')"
   ],
   "id": "650a07294856130e",
   "outputs": [
    {
     "name": "stdout",
     "output_type": "stream",
     "text": [
      "legs: 4\n",
      "wings: 0\n",
      "fins: 0\n",
      "hair: 1\n"
     ]
    }
   ],
   "execution_count": 5
  },
  {
   "metadata": {
    "ExecuteTime": {
     "end_time": "2025-01-03T00:13:16.565478Z",
     "start_time": "2025-01-03T00:13:16.563912Z"
    }
   },
   "cell_type": "code",
   "source": "",
   "id": "9abcf7e3fcdcedf1",
   "outputs": [],
   "execution_count": null
  },
  {
   "metadata": {},
   "cell_type": "code",
   "outputs": [],
   "execution_count": null,
   "source": "",
   "id": "afb3021026daf6a8"
  }
 ],
 "metadata": {
  "kernelspec": {
   "display_name": "Python 3",
   "language": "python",
   "name": "python3"
  },
  "language_info": {
   "codemirror_mode": {
    "name": "ipython",
    "version": 2
   },
   "file_extension": ".py",
   "mimetype": "text/x-python",
   "name": "python",
   "nbconvert_exporter": "python",
   "pygments_lexer": "ipython2",
   "version": "2.7.6"
  }
 },
 "nbformat": 4,
 "nbformat_minor": 5
}
